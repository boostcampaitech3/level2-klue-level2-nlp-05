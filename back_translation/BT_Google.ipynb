{
 "cells": [
  {
   "cell_type": "code",
   "execution_count": null,
   "id": "a55f15c8-d845-46c6-a4eb-e52be73e1408",
   "metadata": {},
   "outputs": [],
   "source": [
    "pip install google-cloud-translate==2.0.1"
   ]
  },
  {
   "cell_type": "code",
   "execution_count": 30,
   "id": "b982c0f7-b9ff-43a3-b5f1-943276c4f331",
   "metadata": {},
   "outputs": [],
   "source": [
    "import os\n",
    "from google.cloud import translate_v2 as translate\n",
    "os.environ['GOOGLE_APPLICATION_CREDENTIALS'] = 'key/key.json'\n",
    "\n",
    "def translate_text_with_model(target:str, text:str, model=\"nmt\")->str:\n",
    "    \"\"\"Translates text into the target language.\n",
    "\n",
    "    Make sure your project is allowlisted.\n",
    "\n",
    "    Target must be an ISO 639-1 language code.\n",
    "    See https://g.co/cloud/translate/v2/translate-reference#supported_languages\n",
    "    \"\"\"\n",
    "    translate_client = translate.Client()\n",
    "\n",
    "    if isinstance(text, bytes):\n",
    "        text = text.decode(\"utf-8\")\n",
    "\n",
    "    # Text can also be a sequence of strings, in which case this method\n",
    "    # will return a sequence of results for each text.\n",
    "    result = translate_client.translate(text, target_language=target, model=model)\n",
    "\n",
    "    # print(u\"Text: {}\".format(result[\"input\"]))\n",
    "    # print(u\"Translation: {}\".format(result[\"translatedText\"]))\n",
    "    # print(u\"Detected source language: {}\".format(result[\"detectedSourceLanguage\"]))\n",
    "\n",
    "    return result[\"translatedText\"]"
   ]
  },
  {
   "cell_type": "code",
   "execution_count": 26,
   "id": "7a263bf9-9e5e-4d21-b0d9-6122337a26c9",
   "metadata": {},
   "outputs": [],
   "source": [
    "import pandas as pd\n",
    "\n",
    "train = pd.read_csv('dataset/train/train.csv')"
   ]
  },
  {
   "cell_type": "code",
   "execution_count": 28,
   "id": "e446ee71-9ded-4c61-8d82-98fc43ea6ae3",
   "metadata": {},
   "outputs": [],
   "source": [
    "def back_translation(sentence:str, langs:list)->str:\n",
    "    sent_tr = translate_text_with_model(langs[0], sentence)\n",
    "    for i in range(1, len(langs)):\n",
    "        sent_tr = translate_text_with_model(langs[i], sent_tr)           \n",
    "    sent_btr = translate_text_with_model(\"ko\", sent_tr)\n",
    "    return sent_btr"
   ]
  },
  {
   "cell_type": "code",
   "execution_count": 46,
   "id": "219152d7-7acb-4ff5-a669-87b4632038a8",
   "metadata": {},
   "outputs": [
    {
     "name": "stdout",
     "output_type": "stream",
     "text": [
      "그러나 서재필은 휴전을 못보고 한국 전쟁이 한창이던 1951년 1월 5일 펜실베이니아주 필라델피아 노리스타운 몽고메리 병원 병실에서 후두암과 방광암, 과로의 합병증으로 일생을 마쳤다.\n",
      "{'word': '서재필', 'start_idx': 4, 'end_idx': 6, 'type': 'PER'} {'word': '펜실베이니아주 필라델피아', 'start_idx': 41, 'end_idx': 53, 'type': 'LOC'}\n",
      "per:place_of_death\n",
      "그 결과로서 밴스는 [SUB]와 [OBJ] 행정부에서 직위들의 계승에 근무하였다.\n",
      "그러나 [SUB]는 한국전쟁이 한창이던 1951년 1월 5일 노리스 타운 몽고메리 병원 병실에서 후두암, 방광암, 과로 등의 합병증으로 생을 마감했다.\n",
      "그러나 [SUB]는 한국 전쟁이 휴전 중이던 1951년 1월 5일 노리스 타운 몽고메리 병원 병실에서 후두암, 방광암, 과로 등의 합병증으로 생을 마감했다.\n",
      "\n",
      "\n",
      "1593년 6월 2차 진주성 전투에서 진주성이 함락되자 의병장인 김천일·고종후와 함께 촉석루에 올라 임금의 처소가 있는 북쪽을 향해 4배(四拜)를 한 후 스스로 진주 남강에 투신해 순절했다.\n",
      "{'word': '고종후', 'start_idx': 40, 'end_idx': 42, 'type': 'PER'} {'word': '진주성', 'start_idx': 12, 'end_idx': 14, 'type': 'POH'}\n",
      "per:place_of_death\n",
      "그 결과로서 밴스는 [SUB]와 [OBJ] 행정부에서 직위들의 계승에 근무하였다.\n",
      "1593년 6월 2차[OBJ]전투에서 진주성이 함락되자, 대장군인 Kim Tenichi[SUB]와 함께 단세키로로 올라가 왕의 거처가 있는 북쪽을 향해 4배로 진격했다. 그 자신이 진주난강에 투자했고 순수했다.\n",
      "1593년 6월 2차 전투[OBJ]에서 진주성이 함락되자 유덕한 장군 김정일[SUB]과 함께 단세키로에 올라 왕의 거처가 있던 북쪽으로 4배, 그 다음에는 자기 자신이었다. 진주난강에 대한 순수한 투자였습니다.\n",
      "\n",
      "\n",
      "테슬라 CEO 엘론 머스크 연인으로 유명한 캐나다 가수 그라임스가 자신의 임신 소식을 알리며 인스타그램 계정에 누드 사진을 올렸다.\n",
      "{'word': '테슬라', 'start_idx': 0, 'end_idx': 2, 'type': 'ORG'} {'word': '엘론 머스크', 'start_idx': 8, 'end_idx': 13, 'type': 'PER'}\n",
      "org:top_members/employees\n",
      "그 결과로서 밴스는 [SUB]와 [OBJ] 행정부에서 직위들의 계승에 근무하였다.\n",
      "[SUB] [OBJ] 대표 [OBJ] 연인으로 유명한 캐나다 가수 그라임스가 자신의 인스타그램 계정에 누드 사진을 게재해 임신 소식을 알렸다.\n",
      "[SUB] [OBJ] 대표 [OBJ] 애인으로 유명한 캐나다 가수 그라임스가 자신의 인스타그램 계정에 누드 사진을 게재해 임신 소식을 알렸다.\n",
      "\n",
      "\n",
      "그 결과로서 밴스는 존 F. 케네디와 린든 B. 존슨 행정부에서 직위들의 계승에 근무하였다.\n",
      "{'word': '존 F. 케네디', 'start_idx': 11, 'end_idx': 18, 'type': 'PER'} {'word': '린든 B. 존슨', 'start_idx': 21, 'end_idx': 28, 'type': 'PER'}\n",
      "no_relation\n",
      "그 결과로서 밴스는 [SUB]와 [OBJ] 행정부에서 직위들의 계승에 근무하였다.\n",
      "결과적으로 Vance는 [SUB] 및 [OBJ] 행정부에서 직위를 계승했습니다.\n",
      "그 결과 Vance는 [SUB] 및 [OBJ] 행정부에서 직위를 승계하는 데 전념했습니다.\n",
      "\n",
      "\n"
     ]
    }
   ],
   "source": [
    "langs_j_e = [\"ja\", \"en\"]\n",
    "langs_j_e_f = [\"ja\", \"en\", \"fr\"]\n",
    "data_bt = {'id':[], 'sentence':[], 'subject_entity':[], 'object_entity':[], 'label':[], 'source':[]}\n",
    "\n",
    "for i in [16082, 30987, 2472, 2487]:\n",
    "    sent = train.iloc[i]['sentence']\n",
    "    subj = eval(train.iloc[i]['subject_entity'])\n",
    "    obj = eval(train.iloc[i]['object_entity'])\n",
    "    label = train.iloc[i]['label']\n",
    "    \n",
    "    subj_s = subj['start_idx']\n",
    "    subj_e = subj['end_idx']\n",
    "    obj_s = obj['start_idx']\n",
    "    obj_e = obj['end_idx']\n",
    "    subj_type = subj['type']\n",
    "    obj_type = obj['type']\n",
    "    \n",
    "    print(sent)\n",
    "    print(subj, obj)\n",
    "    print(label)\n",
    "\n",
    "    if subj_s < obj_s:\n",
    "      sent_blocked = sent[:subj_s]+'[SUB]'+sent[subj_e+1:obj_s]+'[OBJ]'+sent[obj_e+1:]\n",
    "    elif obj_s < subj_s:\n",
    "      sent_blocked = sent[:obj_s]+'[OBJ]'+sent[obj_e+1:subj_s]+'[SUB]'+sent[subj_e+1:]\n",
    "    else:\n",
    "      sent_blocked = sent\n",
    "    # print('\\n')\n",
    "    print(sent_typed)\n",
    "    \n",
    "    print(back_translation(sent_blocked, langs_j_e))\n",
    "    print(back_translation(sent_blocked, langs_j_e_f))\n",
    "    print(\"\\n\")\n",
    "    data_bt['id'].append(train.iloc[i]['id'])\n",
    "    data_bt['sentence'].append(back_translation(sent_blocked, lgs_j_e))\n",
    "    data_bt['subject_entity'].append(subj)\n",
    "    data_bt['object_entity'].append(obj)\n",
    "    data_bt['label'].append(label)\n",
    "    data_bt['source'].append(train.iloc[i]['source'])\n",
    "    "
   ]
  },
  {
   "cell_type": "code",
   "execution_count": 47,
   "id": "a887bb53-c1bf-400b-a2d3-4dc93599e76f",
   "metadata": {},
   "outputs": [],
   "source": [
    "train_bt = pd.DataFrame(data_bt)\n",
    "train_bt.to_csv(\"train_bt.csv\", index=False)"
   ]
  }
 ],
 "metadata": {
  "kernelspec": {
   "display_name": "Python 3",
   "language": "python",
   "name": "python3"
  },
  "language_info": {
   "codemirror_mode": {
    "name": "ipython",
    "version": 3
   },
   "file_extension": ".py",
   "mimetype": "text/x-python",
   "name": "python",
   "nbconvert_exporter": "python",
   "pygments_lexer": "ipython3",
   "version": "3.8.5"
  }
 },
 "nbformat": 4,
 "nbformat_minor": 5
}
