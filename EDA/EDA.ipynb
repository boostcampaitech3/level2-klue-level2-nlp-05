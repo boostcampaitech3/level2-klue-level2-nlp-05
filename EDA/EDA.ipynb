{
 "cells": [
  {
   "cell_type": "code",
   "execution_count": 1,
   "id": "73cbf43f-6349-4b51-85fc-521f05066ea1",
   "metadata": {},
   "outputs": [
    {
     "name": "stdout",
     "output_type": "stream",
     "text": [
      "Requirement already satisfied: pandas in /opt/conda/lib/python3.8/site-packages (1.4.1)\n",
      "Requirement already satisfied: pytz>=2020.1 in /opt/conda/lib/python3.8/site-packages (from pandas) (2020.5)\n",
      "Requirement already satisfied: numpy>=1.18.5; platform_machine != \"aarch64\" and platform_machine != \"arm64\" and python_version < \"3.10\" in /opt/conda/lib/python3.8/site-packages (from pandas) (1.19.2)\n",
      "Requirement already satisfied: python-dateutil>=2.8.1 in /opt/conda/lib/python3.8/site-packages (from pandas) (2.8.2)\n",
      "Requirement already satisfied: six>=1.5 in /opt/conda/lib/python3.8/site-packages (from python-dateutil>=2.8.1->pandas) (1.15.0)\n",
      "Requirement already satisfied: matplotlib in /opt/conda/lib/python3.8/site-packages (3.5.1)\n",
      "Requirement already satisfied: fonttools>=4.22.0 in /opt/conda/lib/python3.8/site-packages (from matplotlib) (4.31.1)\n",
      "Requirement already satisfied: kiwisolver>=1.0.1 in /opt/conda/lib/python3.8/site-packages (from matplotlib) (1.4.0)\n",
      "Requirement already satisfied: packaging>=20.0 in /opt/conda/lib/python3.8/site-packages (from matplotlib) (21.0)\n",
      "Requirement already satisfied: pyparsing>=2.2.1 in /opt/conda/lib/python3.8/site-packages (from matplotlib) (2.4.7)\n",
      "Requirement already satisfied: pillow>=6.2.0 in /opt/conda/lib/python3.8/site-packages (from matplotlib) (8.1.0)\n",
      "Requirement already satisfied: numpy>=1.17 in /opt/conda/lib/python3.8/site-packages (from matplotlib) (1.19.2)\n",
      "Requirement already satisfied: python-dateutil>=2.7 in /opt/conda/lib/python3.8/site-packages (from matplotlib) (2.8.2)\n",
      "Requirement already satisfied: cycler>=0.10 in /opt/conda/lib/python3.8/site-packages (from matplotlib) (0.11.0)\n",
      "Requirement already satisfied: six>=1.5 in /opt/conda/lib/python3.8/site-packages (from python-dateutil>=2.7->matplotlib) (1.15.0)\n",
      "Requirement already satisfied: seaborn in /opt/conda/lib/python3.8/site-packages (0.11.2)\n",
      "Requirement already satisfied: pandas>=0.23 in /opt/conda/lib/python3.8/site-packages (from seaborn) (1.4.1)\n",
      "Requirement already satisfied: numpy>=1.15 in /opt/conda/lib/python3.8/site-packages (from seaborn) (1.19.2)\n",
      "Requirement already satisfied: matplotlib>=2.2 in /opt/conda/lib/python3.8/site-packages (from seaborn) (3.5.1)\n",
      "Requirement already satisfied: scipy>=1.0 in /opt/conda/lib/python3.8/site-packages (from seaborn) (1.7.1)\n",
      "Requirement already satisfied: pytz>=2020.1 in /opt/conda/lib/python3.8/site-packages (from pandas>=0.23->seaborn) (2020.5)\n",
      "Requirement already satisfied: python-dateutil>=2.8.1 in /opt/conda/lib/python3.8/site-packages (from pandas>=0.23->seaborn) (2.8.2)\n",
      "Requirement already satisfied: fonttools>=4.22.0 in /opt/conda/lib/python3.8/site-packages (from matplotlib>=2.2->seaborn) (4.31.1)\n",
      "Requirement already satisfied: pyparsing>=2.2.1 in /opt/conda/lib/python3.8/site-packages (from matplotlib>=2.2->seaborn) (2.4.7)\n",
      "Requirement already satisfied: kiwisolver>=1.0.1 in /opt/conda/lib/python3.8/site-packages (from matplotlib>=2.2->seaborn) (1.4.0)\n",
      "Requirement already satisfied: pillow>=6.2.0 in /opt/conda/lib/python3.8/site-packages (from matplotlib>=2.2->seaborn) (8.1.0)\n",
      "Requirement already satisfied: packaging>=20.0 in /opt/conda/lib/python3.8/site-packages (from matplotlib>=2.2->seaborn) (21.0)\n",
      "Requirement already satisfied: cycler>=0.10 in /opt/conda/lib/python3.8/site-packages (from matplotlib>=2.2->seaborn) (0.11.0)\n",
      "Requirement already satisfied: six>=1.5 in /opt/conda/lib/python3.8/site-packages (from python-dateutil>=2.8.1->pandas>=0.23->seaborn) (1.15.0)\n"
     ]
    }
   ],
   "source": [
    "import sys  \n",
    "!{sys.executable} -m pip install pandas\n",
    "!{sys.executable} -m pip install matplotlib\n",
    "!{sys.executable} -m pip install seaborn"
   ]
  },
  {
   "cell_type": "code",
   "execution_count": 2,
   "id": "0ca3bd42-80d3-4bed-a452-278a3f851bdd",
   "metadata": {},
   "outputs": [],
   "source": [
    "import pandas as pd\n",
    "import matplotlib.pyplot as plt\n",
    "import seaborn as sns\n",
    "\n",
    "train = pd.read_csv('dataset/train/train.csv')\n",
    "test = pd.read_csv('dataset/test/test_data.csv')"
   ]
  },
  {
   "cell_type": "code",
   "execution_count": 3,
   "id": "0d1671d2-610f-4282-8367-7b07fccbfea2",
   "metadata": {},
   "outputs": [
    {
     "name": "stdout",
     "output_type": "stream",
     "text": [
      "(32470, 6)\n",
      "(7765, 6)\n"
     ]
    }
   ],
   "source": [
    "print(train.shape)\n",
    "print(test.shape)"
   ]
  },
  {
   "cell_type": "code",
   "execution_count": 4,
   "id": "6e46590d-8f78-4c34-b051-a834d0504581",
   "metadata": {},
   "outputs": [
    {
     "data": {
      "text/html": [
       "<div>\n",
       "<style scoped>\n",
       "    .dataframe tbody tr th:only-of-type {\n",
       "        vertical-align: middle;\n",
       "    }\n",
       "\n",
       "    .dataframe tbody tr th {\n",
       "        vertical-align: top;\n",
       "    }\n",
       "\n",
       "    .dataframe thead th {\n",
       "        text-align: right;\n",
       "    }\n",
       "</style>\n",
       "<table border=\"1\" class=\"dataframe\">\n",
       "  <thead>\n",
       "    <tr style=\"text-align: right;\">\n",
       "      <th></th>\n",
       "      <th>id</th>\n",
       "      <th>sentence</th>\n",
       "      <th>subject_entity</th>\n",
       "      <th>object_entity</th>\n",
       "      <th>label</th>\n",
       "      <th>source</th>\n",
       "    </tr>\n",
       "  </thead>\n",
       "  <tbody>\n",
       "    <tr>\n",
       "      <th>0</th>\n",
       "      <td>0</td>\n",
       "      <td>〈Something〉는 조지 해리슨이 쓰고 비틀즈가 1969년 앨범 《Abbey R...</td>\n",
       "      <td>{'word': '비틀즈', 'start_idx': 24, 'end_idx': 26...</td>\n",
       "      <td>{'word': '조지 해리슨', 'start_idx': 13, 'end_idx':...</td>\n",
       "      <td>no_relation</td>\n",
       "      <td>wikipedia</td>\n",
       "    </tr>\n",
       "    <tr>\n",
       "      <th>1</th>\n",
       "      <td>1</td>\n",
       "      <td>호남이 기반인 바른미래당·대안신당·민주평화당이 우여곡절 끝에 합당해 민생당(가칭)으...</td>\n",
       "      <td>{'word': '민주평화당', 'start_idx': 19, 'end_idx': ...</td>\n",
       "      <td>{'word': '대안신당', 'start_idx': 14, 'end_idx': 1...</td>\n",
       "      <td>no_relation</td>\n",
       "      <td>wikitree</td>\n",
       "    </tr>\n",
       "    <tr>\n",
       "      <th>2</th>\n",
       "      <td>2</td>\n",
       "      <td>K리그2에서 성적 1위를 달리고 있는 광주FC는 지난 26일 한국프로축구연맹으로부터...</td>\n",
       "      <td>{'word': '광주FC', 'start_idx': 21, 'end_idx': 2...</td>\n",
       "      <td>{'word': '한국프로축구연맹', 'start_idx': 34, 'end_idx...</td>\n",
       "      <td>org:member_of</td>\n",
       "      <td>wikitree</td>\n",
       "    </tr>\n",
       "    <tr>\n",
       "      <th>3</th>\n",
       "      <td>3</td>\n",
       "      <td>균일가 생활용품점 (주)아성다이소(대표 박정부)는 코로나19 바이러스로 어려움을 겪...</td>\n",
       "      <td>{'word': '아성다이소', 'start_idx': 13, 'end_idx': ...</td>\n",
       "      <td>{'word': '박정부', 'start_idx': 22, 'end_idx': 24...</td>\n",
       "      <td>org:top_members/employees</td>\n",
       "      <td>wikitree</td>\n",
       "    </tr>\n",
       "    <tr>\n",
       "      <th>4</th>\n",
       "      <td>4</td>\n",
       "      <td>1967년 프로 야구 드래프트 1순위로 요미우리 자이언츠에게 입단하면서 등번호는 8...</td>\n",
       "      <td>{'word': '요미우리 자이언츠', 'start_idx': 22, 'end_id...</td>\n",
       "      <td>{'word': '1967', 'start_idx': 0, 'end_idx': 3,...</td>\n",
       "      <td>no_relation</td>\n",
       "      <td>wikipedia</td>\n",
       "    </tr>\n",
       "  </tbody>\n",
       "</table>\n",
       "</div>"
      ],
      "text/plain": [
       "   id                                           sentence  \\\n",
       "0   0  〈Something〉는 조지 해리슨이 쓰고 비틀즈가 1969년 앨범 《Abbey R...   \n",
       "1   1  호남이 기반인 바른미래당·대안신당·민주평화당이 우여곡절 끝에 합당해 민생당(가칭)으...   \n",
       "2   2  K리그2에서 성적 1위를 달리고 있는 광주FC는 지난 26일 한국프로축구연맹으로부터...   \n",
       "3   3  균일가 생활용품점 (주)아성다이소(대표 박정부)는 코로나19 바이러스로 어려움을 겪...   \n",
       "4   4  1967년 프로 야구 드래프트 1순위로 요미우리 자이언츠에게 입단하면서 등번호는 8...   \n",
       "\n",
       "                                      subject_entity  \\\n",
       "0  {'word': '비틀즈', 'start_idx': 24, 'end_idx': 26...   \n",
       "1  {'word': '민주평화당', 'start_idx': 19, 'end_idx': ...   \n",
       "2  {'word': '광주FC', 'start_idx': 21, 'end_idx': 2...   \n",
       "3  {'word': '아성다이소', 'start_idx': 13, 'end_idx': ...   \n",
       "4  {'word': '요미우리 자이언츠', 'start_idx': 22, 'end_id...   \n",
       "\n",
       "                                       object_entity  \\\n",
       "0  {'word': '조지 해리슨', 'start_idx': 13, 'end_idx':...   \n",
       "1  {'word': '대안신당', 'start_idx': 14, 'end_idx': 1...   \n",
       "2  {'word': '한국프로축구연맹', 'start_idx': 34, 'end_idx...   \n",
       "3  {'word': '박정부', 'start_idx': 22, 'end_idx': 24...   \n",
       "4  {'word': '1967', 'start_idx': 0, 'end_idx': 3,...   \n",
       "\n",
       "                       label     source  \n",
       "0                no_relation  wikipedia  \n",
       "1                no_relation   wikitree  \n",
       "2              org:member_of   wikitree  \n",
       "3  org:top_members/employees   wikitree  \n",
       "4                no_relation  wikipedia  "
      ]
     },
     "execution_count": 4,
     "metadata": {},
     "output_type": "execute_result"
    }
   ],
   "source": [
    "train.head()"
   ]
  },
  {
   "cell_type": "code",
   "execution_count": 5,
   "id": "db76937c-7ff4-4843-9ddd-d5d781841723",
   "metadata": {},
   "outputs": [
    {
     "data": {
      "text/html": [
       "<div>\n",
       "<style scoped>\n",
       "    .dataframe tbody tr th:only-of-type {\n",
       "        vertical-align: middle;\n",
       "    }\n",
       "\n",
       "    .dataframe tbody tr th {\n",
       "        vertical-align: top;\n",
       "    }\n",
       "\n",
       "    .dataframe thead th {\n",
       "        text-align: right;\n",
       "    }\n",
       "</style>\n",
       "<table border=\"1\" class=\"dataframe\">\n",
       "  <thead>\n",
       "    <tr style=\"text-align: right;\">\n",
       "      <th></th>\n",
       "      <th>id</th>\n",
       "      <th>sentence</th>\n",
       "      <th>subject_entity</th>\n",
       "      <th>object_entity</th>\n",
       "      <th>label</th>\n",
       "      <th>source</th>\n",
       "    </tr>\n",
       "  </thead>\n",
       "  <tbody>\n",
       "    <tr>\n",
       "      <th>0</th>\n",
       "      <td>0</td>\n",
       "      <td>지난 15일 MBC '탐사기획 스트레이트'가 이 사실을 보도했다.</td>\n",
       "      <td>{'word': 'MBC', 'start_idx': 7, 'end_idx': 9, ...</td>\n",
       "      <td>{'word': '탐사기획 스트레이트', 'start_idx': 12, 'end_i...</td>\n",
       "      <td>100</td>\n",
       "      <td>wikitree</td>\n",
       "    </tr>\n",
       "    <tr>\n",
       "      <th>1</th>\n",
       "      <td>1</td>\n",
       "      <td>사랑스러운 ‘프린세스 프링’의 이름은 봄의 공주님: Princess(s)Pring이...</td>\n",
       "      <td>{'word': '프린세스 프링', 'start_idx': 7, 'end_idx':...</td>\n",
       "      <td>{'word': '공주', 'start_idx': 84, 'end_idx': 85,...</td>\n",
       "      <td>100</td>\n",
       "      <td>wikipedia</td>\n",
       "    </tr>\n",
       "    <tr>\n",
       "      <th>2</th>\n",
       "      <td>2</td>\n",
       "      <td>한편, 본인(이근안)을 모델로 한 MBC 특집드라마 가 1995년 6.25 특집극으...</td>\n",
       "      <td>{'word': '경찰', 'start_idx': 121, 'end_idx': 12...</td>\n",
       "      <td>{'word': '1995년', 'start_idx': 31, 'end_idx': ...</td>\n",
       "      <td>100</td>\n",
       "      <td>wikipedia</td>\n",
       "    </tr>\n",
       "    <tr>\n",
       "      <th>3</th>\n",
       "      <td>3</td>\n",
       "      <td>정창손은 김질과 같이 대궐로 달려가 고변하며 '신은 실로 모르고 김질만 혼자 참여하...</td>\n",
       "      <td>{'word': '세조', 'start_idx': 78, 'end_idx': 79,...</td>\n",
       "      <td>{'word': '정창손', 'start_idx': 0, 'end_idx': 2, ...</td>\n",
       "      <td>100</td>\n",
       "      <td>wikipedia</td>\n",
       "    </tr>\n",
       "    <tr>\n",
       "      <th>4</th>\n",
       "      <td>4</td>\n",
       "      <td>당시 민주당 이진련 시의원은 권영진 시장에게 \"긴급 생계자금을 왜 현금으로 지원하지...</td>\n",
       "      <td>{'word': '민주당', 'start_idx': 3, 'end_idx': 5, ...</td>\n",
       "      <td>{'word': '권영진', 'start_idx': 16, 'end_idx': 18...</td>\n",
       "      <td>100</td>\n",
       "      <td>wikitree</td>\n",
       "    </tr>\n",
       "  </tbody>\n",
       "</table>\n",
       "</div>"
      ],
      "text/plain": [
       "   id                                           sentence  \\\n",
       "0   0               지난 15일 MBC '탐사기획 스트레이트'가 이 사실을 보도했다.   \n",
       "1   1  사랑스러운 ‘프린세스 프링’의 이름은 봄의 공주님: Princess(s)Pring이...   \n",
       "2   2  한편, 본인(이근안)을 모델로 한 MBC 특집드라마 가 1995년 6.25 특집극으...   \n",
       "3   3  정창손은 김질과 같이 대궐로 달려가 고변하며 '신은 실로 모르고 김질만 혼자 참여하...   \n",
       "4   4  당시 민주당 이진련 시의원은 권영진 시장에게 \"긴급 생계자금을 왜 현금으로 지원하지...   \n",
       "\n",
       "                                      subject_entity  \\\n",
       "0  {'word': 'MBC', 'start_idx': 7, 'end_idx': 9, ...   \n",
       "1  {'word': '프린세스 프링', 'start_idx': 7, 'end_idx':...   \n",
       "2  {'word': '경찰', 'start_idx': 121, 'end_idx': 12...   \n",
       "3  {'word': '세조', 'start_idx': 78, 'end_idx': 79,...   \n",
       "4  {'word': '민주당', 'start_idx': 3, 'end_idx': 5, ...   \n",
       "\n",
       "                                       object_entity  label     source  \n",
       "0  {'word': '탐사기획 스트레이트', 'start_idx': 12, 'end_i...    100   wikitree  \n",
       "1  {'word': '공주', 'start_idx': 84, 'end_idx': 85,...    100  wikipedia  \n",
       "2  {'word': '1995년', 'start_idx': 31, 'end_idx': ...    100  wikipedia  \n",
       "3  {'word': '정창손', 'start_idx': 0, 'end_idx': 2, ...    100  wikipedia  \n",
       "4  {'word': '권영진', 'start_idx': 16, 'end_idx': 18...    100   wikitree  "
      ]
     },
     "execution_count": 5,
     "metadata": {},
     "output_type": "execute_result"
    }
   ],
   "source": [
    "test.head()"
   ]
  },
  {
   "cell_type": "code",
   "execution_count": 6,
   "id": "18bda4c9-8b39-4b30-b1c1-69ac0e22f812",
   "metadata": {},
   "outputs": [
    {
     "name": "stdout",
     "output_type": "stream",
     "text": [
      "〈Something〉는 조지 해리슨이 쓰고 비틀즈가 1969년 앨범 《Abbey Road》에 담은 노래다.\n",
      "{'word': '비틀즈', 'start_idx': 24, 'end_idx': 26, 'type': 'ORG'}\n",
      "{'word': '조지 해리슨', 'start_idx': 13, 'end_idx': 18, 'type': 'PER'}\n",
      "no_relation\n"
     ]
    }
   ],
   "source": [
    "print(train.iloc[0]['sentence'])\n",
    "print(train.iloc[0]['subject_entity'])\n",
    "print(train.iloc[0]['object_entity'])\n",
    "print(train.iloc[0]['label'])"
   ]
  },
  {
   "cell_type": "code",
   "execution_count": 7,
   "id": "9c7724eb-0143-4a5f-8c4d-f51be403dc35",
   "metadata": {},
   "outputs": [
    {
     "data": {
      "text/plain": [
       "no_relation                            9534\n",
       "org:top_members/employees              4284\n",
       "per:employee_of                        3573\n",
       "per:title                              2103\n",
       "org:member_of                          1866\n",
       "org:alternate_names                    1320\n",
       "per:origin                             1234\n",
       "org:place_of_headquarters              1195\n",
       "per:date_of_birth                      1130\n",
       "per:alternate_names                    1001\n",
       "per:spouse                              795\n",
       "per:colleagues                          534\n",
       "per:parents                             520\n",
       "org:founded                             450\n",
       "org:members                             420\n",
       "per:date_of_death                       418\n",
       "org:product                             380\n",
       "per:children                            304\n",
       "per:place_of_residence                  193\n",
       "per:other_family                        190\n",
       "per:place_of_birth                      166\n",
       "org:founded_by                          155\n",
       "per:product                             139\n",
       "per:siblings                            136\n",
       "org:political/religious_affiliation      98\n",
       "per:religion                             96\n",
       "per:schools_attended                     82\n",
       "org:dissolved                            66\n",
       "org:number_of_employees/members          48\n",
       "per:place_of_death                       40\n",
       "Name: label, dtype: int64"
      ]
     },
     "execution_count": 7,
     "metadata": {},
     "output_type": "execute_result"
    }
   ],
   "source": [
    "train['label'].value_counts()"
   ]
  },
  {
   "cell_type": "code",
   "execution_count": 11,
   "id": "9a70eed9-8d42-43b3-a442-1a68ba03a845",
   "metadata": {},
   "outputs": [
    {
     "data": {
      "text/plain": [
       "wikipedia          21620\n",
       "wikitree           10672\n",
       "policy_briefing      178\n",
       "Name: source, dtype: int64"
      ]
     },
     "execution_count": 11,
     "metadata": {},
     "output_type": "execute_result"
    }
   ],
   "source": [
    "train['source'].value_counts()"
   ]
  },
  {
   "cell_type": "code",
   "execution_count": 8,
   "id": "e37875c3-0579-47c2-b10d-7510ed2de2d9",
   "metadata": {},
   "outputs": [],
   "source": [
    "train['sentence_length'] = [len(x) for x in train['sentence']]\n",
    "test['sentence_length'] = [len(x) for x in test['sentence']]"
   ]
  },
  {
   "cell_type": "code",
   "execution_count": 25,
   "id": "db185a7b-efea-4c15-8ae1-dee53d825688",
   "metadata": {},
   "outputs": [
    {
     "name": "stdout",
     "output_type": "stream",
     "text": [
      "train length:  32470\n",
      "train sentence length min:  14\n",
      "train sentence length max:  455\n",
      "train sentence length mean:  97.08395441946412\n",
      "train sentence length median:  87.0\n",
      "\n",
      "test length:  7765\n",
      "train sentence length min:  14\n",
      "train sentence length max:  432\n",
      "train sentence length mean:  92.96497102382486\n",
      "train sentence length median:  85.0\n"
     ]
    }
   ],
   "source": [
    "import numpy as np\n",
    "\n",
    "train_sentlength = np.array(list(map(len, train['sentence'])))\n",
    "test_sentlength = np.array(list(map(len, test['sentence'])))\n",
    "print('train length: ', len(train))\n",
    "print('train sentence length min: ', min(train_sentlength))\n",
    "print('train sentence length max: ', max(train_sentlength))\n",
    "print('train sentence length mean: ', np.mean(train_sentlength))\n",
    "print('train sentence length median: ', np.median(train_sentlength))\n",
    "\n",
    "print('\\ntest length: ', len(test))\n",
    "print('train sentence length min: ', min(train_sentlength))\n",
    "print('train sentence length max: ', max(test_sentlength))\n",
    "print('train sentence length mean: ', np.mean(test_sentlength))\n",
    "print('train sentence length median: ', np.median(test_sentlength))"
   ]
  },
  {
   "cell_type": "code",
   "execution_count": 9,
   "id": "20a7c2f4-79ba-4085-ada8-3d7aec548018",
   "metadata": {},
   "outputs": [
    {
     "data": {
      "text/plain": [
       "<AxesSubplot:xlabel='sentence_length', ylabel='Count'>"
      ]
     },
     "execution_count": 9,
     "metadata": {},
     "output_type": "execute_result"
    },
    {
     "data": {
      "image/png": "[encoded data removed]",
      "text/plain": [
       "<Figure size 720x432 with 2 Axes>"
      ]
     },
     "metadata": {
      "needs_background": "light"
     },
     "output_type": "display_data"
    }
   ],
   "source": [
    "fig = plt.figure(figsize = (10,6))\n",
    "\n",
    "fig.add_subplot(121)\n",
    "sns.histplot(train['sentence_length'], kde=True)\n",
    "\n",
    "fig.add_subplot(122)\n",
    "sns.histplot(test['sentence_length'], kde=True)"
   ]
  },
  {
   "cell_type": "code",
   "execution_count": 10,
   "id": "49bf98fc-6a8d-416b-a691-be11d0c8b235",
   "metadata": {},
   "outputs": [
    {
     "name": "stderr",
     "output_type": "stream",
     "text": [
      "/opt/conda/lib/python3.8/site-packages/seaborn/_decorators.py:36: FutureWarning: Pass the following variable as a keyword arg: x. From version 0.12, the only valid positional argument will be `data`, and passing other arguments without an explicit keyword will result in an error or misinterpretation.\n",
      "  warnings.warn(\n",
      "/opt/conda/lib/python3.8/site-packages/seaborn/_decorators.py:36: FutureWarning: Pass the following variable as a keyword arg: x. From version 0.12, the only valid positional argument will be `data`, and passing other arguments without an explicit keyword will result in an error or misinterpretation.\n",
      "  warnings.warn(\n"
     ]
    },
    {
     "data": {
      "image/png": "[encoded data removed]",
      "text/plain": [
       "<Figure size 720x432 with 2 Axes>"
      ]
     },
     "metadata": {
      "needs_background": "light"
     },
     "output_type": "display_data"
    }
   ],
   "source": [
    "fig = plt.figure(figsize = (10,6))\n",
    "\n",
    "ax1 = fig.add_subplot(121)\n",
    "sns.boxplot(train['sentence_length'])\n",
    "ax1.set_title('train sentence length')\n",
    "\n",
    "ax2 = fig.add_subplot(122)\n",
    "sns.boxplot(test['sentence_length'])\n",
    "plt.show()"
   ]
  },
  {
   "cell_type": "code",
   "execution_count": 45,
   "id": "bc7b48d6-88ab-4a1b-92fb-c890482dd504",
   "metadata": {},
   "outputs": [
    {
     "data": {
      "text/html": [
       "<div>\n",
       "<style scoped>\n",
       "    .dataframe tbody tr th:only-of-type {\n",
       "        vertical-align: middle;\n",
       "    }\n",
       "\n",
       "    .dataframe tbody tr th {\n",
       "        vertical-align: top;\n",
       "    }\n",
       "\n",
       "    .dataframe thead th {\n",
       "        text-align: right;\n",
       "    }\n",
       "</style>\n",
       "<table border=\"1\" class=\"dataframe\">\n",
       "  <thead>\n",
       "    <tr style=\"text-align: right;\">\n",
       "      <th></th>\n",
       "      <th>id</th>\n",
       "      <th>sentence</th>\n",
       "      <th>subject_entity</th>\n",
       "      <th>object_entity</th>\n",
       "      <th>label</th>\n",
       "      <th>source</th>\n",
       "      <th>sentence_length</th>\n",
       "      <th>subject</th>\n",
       "      <th>object</th>\n",
       "    </tr>\n",
       "  </thead>\n",
       "  <tbody>\n",
       "    <tr>\n",
       "      <th>0</th>\n",
       "      <td>0</td>\n",
       "      <td>〈Something〉는 조지 해리슨이 쓰고 비틀즈가 1969년 앨범 《Abbey R...</td>\n",
       "      <td>{'word': '비틀즈', 'start_idx': 24, 'end_idx': 26...</td>\n",
       "      <td>{'word': '조지 해리슨', 'start_idx': 13, 'end_idx':...</td>\n",
       "      <td>no_relation</td>\n",
       "      <td>wikipedia</td>\n",
       "      <td>59</td>\n",
       "      <td>비틀즈</td>\n",
       "      <td>조지 해리슨</td>\n",
       "    </tr>\n",
       "    <tr>\n",
       "      <th>1</th>\n",
       "      <td>1</td>\n",
       "      <td>호남이 기반인 바른미래당·대안신당·민주평화당이 우여곡절 끝에 합당해 민생당(가칭)으...</td>\n",
       "      <td>{'word': '민주평화당', 'start_idx': 19, 'end_idx': ...</td>\n",
       "      <td>{'word': '대안신당', 'start_idx': 14, 'end_idx': 1...</td>\n",
       "      <td>no_relation</td>\n",
       "      <td>wikitree</td>\n",
       "      <td>54</td>\n",
       "      <td>민주평화당</td>\n",
       "      <td>대안신당</td>\n",
       "    </tr>\n",
       "    <tr>\n",
       "      <th>2</th>\n",
       "      <td>2</td>\n",
       "      <td>K리그2에서 성적 1위를 달리고 있는 광주FC는 지난 26일 한국프로축구연맹으로부터...</td>\n",
       "      <td>{'word': '광주FC', 'start_idx': 21, 'end_idx': 2...</td>\n",
       "      <td>{'word': '한국프로축구연맹', 'start_idx': 34, 'end_idx...</td>\n",
       "      <td>org:member_of</td>\n",
       "      <td>wikitree</td>\n",
       "      <td>99</td>\n",
       "      <td>광주FC</td>\n",
       "      <td>한국프로축구연맹</td>\n",
       "    </tr>\n",
       "    <tr>\n",
       "      <th>3</th>\n",
       "      <td>3</td>\n",
       "      <td>균일가 생활용품점 (주)아성다이소(대표 박정부)는 코로나19 바이러스로 어려움을 겪...</td>\n",
       "      <td>{'word': '아성다이소', 'start_idx': 13, 'end_idx': ...</td>\n",
       "      <td>{'word': '박정부', 'start_idx': 22, 'end_idx': 24...</td>\n",
       "      <td>org:top_members/employees</td>\n",
       "      <td>wikitree</td>\n",
       "      <td>78</td>\n",
       "      <td>아성다이소</td>\n",
       "      <td>박정부</td>\n",
       "    </tr>\n",
       "    <tr>\n",
       "      <th>4</th>\n",
       "      <td>4</td>\n",
       "      <td>1967년 프로 야구 드래프트 1순위로 요미우리 자이언츠에게 입단하면서 등번호는 8...</td>\n",
       "      <td>{'word': '요미우리 자이언츠', 'start_idx': 22, 'end_id...</td>\n",
       "      <td>{'word': '1967', 'start_idx': 0, 'end_idx': 3,...</td>\n",
       "      <td>no_relation</td>\n",
       "      <td>wikipedia</td>\n",
       "      <td>56</td>\n",
       "      <td>요미우리 자이언츠</td>\n",
       "      <td>1967</td>\n",
       "    </tr>\n",
       "  </tbody>\n",
       "</table>\n",
       "</div>"
      ],
      "text/plain": [
       "   id                                           sentence  \\\n",
       "0   0  〈Something〉는 조지 해리슨이 쓰고 비틀즈가 1969년 앨범 《Abbey R...   \n",
       "1   1  호남이 기반인 바른미래당·대안신당·민주평화당이 우여곡절 끝에 합당해 민생당(가칭)으...   \n",
       "2   2  K리그2에서 성적 1위를 달리고 있는 광주FC는 지난 26일 한국프로축구연맹으로부터...   \n",
       "3   3  균일가 생활용품점 (주)아성다이소(대표 박정부)는 코로나19 바이러스로 어려움을 겪...   \n",
       "4   4  1967년 프로 야구 드래프트 1순위로 요미우리 자이언츠에게 입단하면서 등번호는 8...   \n",
       "\n",
       "                                      subject_entity  \\\n",
       "0  {'word': '비틀즈', 'start_idx': 24, 'end_idx': 26...   \n",
       "1  {'word': '민주평화당', 'start_idx': 19, 'end_idx': ...   \n",
       "2  {'word': '광주FC', 'start_idx': 21, 'end_idx': 2...   \n",
       "3  {'word': '아성다이소', 'start_idx': 13, 'end_idx': ...   \n",
       "4  {'word': '요미우리 자이언츠', 'start_idx': 22, 'end_id...   \n",
       "\n",
       "                                       object_entity  \\\n",
       "0  {'word': '조지 해리슨', 'start_idx': 13, 'end_idx':...   \n",
       "1  {'word': '대안신당', 'start_idx': 14, 'end_idx': 1...   \n",
       "2  {'word': '한국프로축구연맹', 'start_idx': 34, 'end_idx...   \n",
       "3  {'word': '박정부', 'start_idx': 22, 'end_idx': 24...   \n",
       "4  {'word': '1967', 'start_idx': 0, 'end_idx': 3,...   \n",
       "\n",
       "                       label     source  sentence_length    subject    object  \n",
       "0                no_relation  wikipedia               59        비틀즈    조지 해리슨  \n",
       "1                no_relation   wikitree               54      민주평화당      대안신당  \n",
       "2              org:member_of   wikitree               99       광주FC  한국프로축구연맹  \n",
       "3  org:top_members/employees   wikitree               78      아성다이소       박정부  \n",
       "4                no_relation  wikipedia               56  요미우리 자이언츠      1967  "
      ]
     },
     "execution_count": 45,
     "metadata": {},
     "output_type": "execute_result"
    }
   ],
   "source": [
    "train.head()"
   ]
  },
  {
   "cell_type": "code",
   "execution_count": 26,
   "id": "992b85ad-957a-47d5-ac62-f17b4f7d4a2f",
   "metadata": {},
   "outputs": [
    {
     "name": "stdout",
     "output_type": "stream",
     "text": [
      "<class 'str'>\n"
     ]
    }
   ],
   "source": [
    "print(type(train['subject_entity'].iloc[0]))"
   ]
  },
  {
   "cell_type": "code",
   "execution_count": 44,
   "id": "1c6718a6-9d14-4073-a192-1d5e62220da4",
   "metadata": {},
   "outputs": [],
   "source": [
    "def get_word(string):\n",
    "    return string[1:-1].split(',')[0].split(':')[1].strip()[1:-1]\n",
    "\n",
    "train['subject'] = list(map(get_word, train['subject_entity']))\n",
    "train['object'] = list(map(get_word, train['object_entity']))\n",
    "test['subject'] = list(map(get_word, test['subject_entity']))\n",
    "test['object'] = list(map(get_word, test['object_entity']))"
   ]
  },
  {
   "cell_type": "code",
   "execution_count": 48,
   "id": "04a19e36-014d-4a4b-a6d7-af7e7d19939d",
   "metadata": {},
   "outputs": [],
   "source": [
    "train_data = train[['id', 'sentence', 'subject', 'object', 'label']]\n",
    "test_data = test[['id', 'sentence', 'subject', 'object', 'label']]"
   ]
  },
  {
   "cell_type": "code",
   "execution_count": 32,
   "id": "3d0da922-c058-49b6-8100-06db296c026c",
   "metadata": {},
   "outputs": [],
   "source": [
    "train_data.to_csv('train_p.csv')\n",
    "test_data.to_csv('test_p.csv')"
   ]
  },
  {
   "cell_type": "code",
   "execution_count": 51,
   "id": "3a5cbf8c-82f4-46d5-80c8-52299c8536b5",
   "metadata": {},
   "outputs": [
    {
     "name": "stderr",
     "output_type": "stream",
     "text": [
      "<ipython-input-51-9f8e18dde510>:6: SettingWithCopyWarning: \n",
      "A value is trying to be set on a copy of a slice from a DataFrame.\n",
      "Try using .loc[row_indexer,col_indexer] = value instead\n",
      "\n",
      "See the caveats in the documentation: https://pandas.pydata.org/pandas-docs/stable/user_guide/indexing.html#returning-a-view-versus-a-copy\n",
      "  train_data['sent_tokens'] = list(map(tokenizer.encode, train_data['sentence']))\n",
      "<ipython-input-51-9f8e18dde510>:7: SettingWithCopyWarning: \n",
      "A value is trying to be set on a copy of a slice from a DataFrame.\n",
      "Try using .loc[row_indexer,col_indexer] = value instead\n",
      "\n",
      "See the caveats in the documentation: https://pandas.pydata.org/pandas-docs/stable/user_guide/indexing.html#returning-a-view-versus-a-copy\n",
      "  test_data['sent_tokens'] = list(map(tokenizer.encode, test_data['sentence']))\n"
     ]
    }
   ],
   "source": [
    "from transformers import AutoTokenizer, AutoConfig, AutoModelForSequenceClassification, Trainer, TrainingArguments, RobertaConfig, RobertaTokenizer, RobertaForSequenceClassification, BertTokenizer\n",
    "\n",
    "model_name = 'klue/bert-base'\n",
    "tokenizer = AutoTokenizer.from_pretrained(model_name)\n",
    "\n",
    "train_data['sent_tokens'] = list(map(tokenizer.encode, train_data['sentence']))\n",
    "test_data['sent_tokens'] = list(map(tokenizer.encode, test_data['sentence']))"
   ]
  },
  {
   "cell_type": "code",
   "execution_count": 49,
   "id": "bb5314a4-e6e5-4064-b21f-88ed64aef27f",
   "metadata": {},
   "outputs": [
    {
     "name": "stderr",
     "output_type": "stream",
     "text": [
      "<ipython-input-49-6fd876d9f914>:5: SettingWithCopyWarning: \n",
      "A value is trying to be set on a copy of a slice from a DataFrame.\n",
      "Try using .loc[row_indexer,col_indexer] = value instead\n",
      "\n",
      "See the caveats in the documentation: https://pandas.pydata.org/pandas-docs/stable/user_guide/indexing.html#returning-a-view-versus-a-copy\n",
      "  train_data['entity_tokens'] = list(map(tokenizer.encode, temp))\n"
     ]
    }
   ],
   "source": [
    "def entity(s, o):\n",
    "    return s + '[SEP]' + o\n",
    "\n",
    "temp = [entity(s,o) for s, o in zip(train_data['subject'], train_data['object'])]\n",
    "train_data['entity_tokens'] = list(map(tokenizer.encode, temp))"
   ]
  },
  {
   "cell_type": "code",
   "execution_count": 52,
   "id": "49b04edd-376b-434e-b1d5-3d879fe38de0",
   "metadata": {},
   "outputs": [
    {
     "name": "stderr",
     "output_type": "stream",
     "text": [
      "<ipython-input-52-a8aa3f33d64b>:2: SettingWithCopyWarning: \n",
      "A value is trying to be set on a copy of a slice from a DataFrame.\n",
      "Try using .loc[row_indexer,col_indexer] = value instead\n",
      "\n",
      "See the caveats in the documentation: https://pandas.pydata.org/pandas-docs/stable/user_guide/indexing.html#returning-a-view-versus-a-copy\n",
      "  test_data['entity_tokens'] = list(map(tokenizer.encode, temp))\n"
     ]
    }
   ],
   "source": [
    "temp = [entity(s,o) for s, o in zip(test_data['subject'], test_data['object'])]\n",
    "test_data['entity_tokens'] = list(map(tokenizer.encode, temp))"
   ]
  },
  {
   "cell_type": "code",
   "execution_count": 54,
   "id": "f9fa9095-8ff5-4501-bd4c-8dce9c0efdb7",
   "metadata": {},
   "outputs": [
    {
     "data": {
      "text/html": [
       "<div>\n",
       "<style scoped>\n",
       "    .dataframe tbody tr th:only-of-type {\n",
       "        vertical-align: middle;\n",
       "    }\n",
       "\n",
       "    .dataframe tbody tr th {\n",
       "        vertical-align: top;\n",
       "    }\n",
       "\n",
       "    .dataframe thead th {\n",
       "        text-align: right;\n",
       "    }\n",
       "</style>\n",
       "<table border=\"1\" class=\"dataframe\">\n",
       "  <thead>\n",
       "    <tr style=\"text-align: right;\">\n",
       "      <th></th>\n",
       "      <th>id</th>\n",
       "      <th>sentence</th>\n",
       "      <th>subject</th>\n",
       "      <th>object</th>\n",
       "      <th>label</th>\n",
       "      <th>entity_tokens</th>\n",
       "      <th>sent_tokens</th>\n",
       "    </tr>\n",
       "  </thead>\n",
       "  <tbody>\n",
       "    <tr>\n",
       "      <th>0</th>\n",
       "      <td>0</td>\n",
       "      <td>〈Something〉는 조지 해리슨이 쓰고 비틀즈가 1969년 앨범 《Abbey R...</td>\n",
       "      <td>비틀즈</td>\n",
       "      <td>조지 해리슨</td>\n",
       "      <td>no_relation</td>\n",
       "      <td>[2, 29830, 3, 8373, 14113, 2234, 3]</td>\n",
       "      <td>[2, 168, 30985, 14451, 7088, 4586, 169, 793, 8...</td>\n",
       "    </tr>\n",
       "    <tr>\n",
       "      <th>1</th>\n",
       "      <td>1</td>\n",
       "      <td>호남이 기반인 바른미래당·대안신당·민주평화당이 우여곡절 끝에 합당해 민생당(가칭)으...</td>\n",
       "      <td>민주평화당</td>\n",
       "      <td>대안신당</td>\n",
       "      <td>no_relation</td>\n",
       "      <td>[2, 3772, 2139, 2267, 2481, 3, 5605, 2250, 248...</td>\n",
       "      <td>[2, 6409, 2052, 4568, 2179, 6417, 2044, 2315, ...</td>\n",
       "    </tr>\n",
       "    <tr>\n",
       "      <th>2</th>\n",
       "      <td>2</td>\n",
       "      <td>K리그2에서 성적 1위를 달리고 있는 광주FC는 지난 26일 한국프로축구연맹으로부터...</td>\n",
       "      <td>광주FC</td>\n",
       "      <td>한국프로축구연맹</td>\n",
       "      <td>org:member_of</td>\n",
       "      <td>[2, 4104, 10904, 3, 3629, 17287, 20212, 3]</td>\n",
       "      <td>[2, 47, 17665, 2302, 27135, 4610, 21, 2090, 21...</td>\n",
       "    </tr>\n",
       "    <tr>\n",
       "      <th>3</th>\n",
       "      <td>3</td>\n",
       "      <td>균일가 생활용품점 (주)아성다이소(대표 박정부)는 코로나19 바이러스로 어려움을 겪...</td>\n",
       "      <td>아성다이소</td>\n",
       "      <td>박정부</td>\n",
       "      <td>org:top_members/employees</td>\n",
       "      <td>[2, 27930, 24393, 2024, 3, 6580, 2144, 3]</td>\n",
       "      <td>[2, 23306, 2116, 3799, 18319, 2532, 12, 1564, ...</td>\n",
       "    </tr>\n",
       "    <tr>\n",
       "      <th>4</th>\n",
       "      <td>4</td>\n",
       "      <td>1967년 프로 야구 드래프트 1순위로 요미우리 자이언츠에게 입단하면서 등번호는 8...</td>\n",
       "      <td>요미우리 자이언츠</td>\n",
       "      <td>1967</td>\n",
       "      <td>no_relation</td>\n",
       "      <td>[2, 20289, 20562, 3, 14925, 3]</td>\n",
       "      <td>[2, 14925, 2440, 3701, 4878, 19038, 21, 22247,...</td>\n",
       "    </tr>\n",
       "    <tr>\n",
       "      <th>...</th>\n",
       "      <td>...</td>\n",
       "      <td>...</td>\n",
       "      <td>...</td>\n",
       "      <td>...</td>\n",
       "      <td>...</td>\n",
       "      <td>...</td>\n",
       "      <td>...</td>\n",
       "    </tr>\n",
       "    <tr>\n",
       "      <th>32465</th>\n",
       "      <td>32465</td>\n",
       "      <td>한국당은 7일 오전 9시부터 오후 5시까지 진행된 원내대표 및 정책위의장 후보자 등...</td>\n",
       "      <td>유기준</td>\n",
       "      <td>부산 서구·동구</td>\n",
       "      <td>per:employee_of</td>\n",
       "      <td>[2, 5967, 2456, 3, 3902, 5905, 100, 7522, 3]</td>\n",
       "      <td>[2, 3629, 2481, 2073, 27, 2210, 4400, 29, 2067...</td>\n",
       "    </tr>\n",
       "    <tr>\n",
       "      <th>32466</th>\n",
       "      <td>32466</td>\n",
       "      <td>법포는 다시 최시형, 서병학, 손병희 직계인 북접과 다시 서장옥, 전봉준, 김개남을...</td>\n",
       "      <td>최시형</td>\n",
       "      <td>손병희</td>\n",
       "      <td>per:colleagues</td>\n",
       "      <td>[2, 28246, 2444, 3, 1284, 2394, 2364, 3]</td>\n",
       "      <td>[2, 1144, 2208, 2259, 3690, 28246, 2444, 16, 2...</td>\n",
       "    </tr>\n",
       "    <tr>\n",
       "      <th>32467</th>\n",
       "      <td>32467</td>\n",
       "      <td>완도군(군수 신우철)이 국토교통부에서 실시한 '2019 교통문화지수 실태조사'에서 ...</td>\n",
       "      <td>완도군</td>\n",
       "      <td>신우철</td>\n",
       "      <td>org:top_members/employees</td>\n",
       "      <td>[2, 18272, 2242, 3, 31102, 2313, 3]</td>\n",
       "      <td>[2, 18272, 2242, 12, 6942, 31102, 2313, 13, 15...</td>\n",
       "    </tr>\n",
       "    <tr>\n",
       "      <th>32468</th>\n",
       "      <td>32468</td>\n",
       "      <td>중앙일보, JTBC 회장을 지낸 이후 중앙홀딩스 회장, 재단법인 한반도평화만들기 이...</td>\n",
       "      <td>JTBC</td>\n",
       "      <td>중앙홀딩스</td>\n",
       "      <td>no_relation</td>\n",
       "      <td>[2, 15710, 3, 4097, 2827, 2500, 2255, 3]</td>\n",
       "      <td>[2, 15724, 16, 15710, 3873, 2069, 8490, 3719, ...</td>\n",
       "    </tr>\n",
       "    <tr>\n",
       "      <th>32469</th>\n",
       "      <td>32469</td>\n",
       "      <td>화순군(군수 구충곤)은 17일 동면의 이장 20여 명이 코로나 19 예방을 위해 버...</td>\n",
       "      <td>화순군</td>\n",
       "      <td>구충곤</td>\n",
       "      <td>org:top_members/employees</td>\n",
       "      <td>[2, 15437, 2242, 3, 615, 2419, 2344, 3]</td>\n",
       "      <td>[2, 15437, 2242, 12, 6942, 615, 2419, 2344, 13...</td>\n",
       "    </tr>\n",
       "  </tbody>\n",
       "</table>\n",
       "<p>32470 rows × 7 columns</p>\n",
       "</div>"
      ],
      "text/plain": [
       "          id                                           sentence    subject  \\\n",
       "0          0  〈Something〉는 조지 해리슨이 쓰고 비틀즈가 1969년 앨범 《Abbey R...        비틀즈   \n",
       "1          1  호남이 기반인 바른미래당·대안신당·민주평화당이 우여곡절 끝에 합당해 민생당(가칭)으...      민주평화당   \n",
       "2          2  K리그2에서 성적 1위를 달리고 있는 광주FC는 지난 26일 한국프로축구연맹으로부터...       광주FC   \n",
       "3          3  균일가 생활용품점 (주)아성다이소(대표 박정부)는 코로나19 바이러스로 어려움을 겪...      아성다이소   \n",
       "4          4  1967년 프로 야구 드래프트 1순위로 요미우리 자이언츠에게 입단하면서 등번호는 8...  요미우리 자이언츠   \n",
       "...      ...                                                ...        ...   \n",
       "32465  32465  한국당은 7일 오전 9시부터 오후 5시까지 진행된 원내대표 및 정책위의장 후보자 등...        유기준   \n",
       "32466  32466  법포는 다시 최시형, 서병학, 손병희 직계인 북접과 다시 서장옥, 전봉준, 김개남을...        최시형   \n",
       "32467  32467  완도군(군수 신우철)이 국토교통부에서 실시한 '2019 교통문화지수 실태조사'에서 ...        완도군   \n",
       "32468  32468  중앙일보, JTBC 회장을 지낸 이후 중앙홀딩스 회장, 재단법인 한반도평화만들기 이...       JTBC   \n",
       "32469  32469  화순군(군수 구충곤)은 17일 동면의 이장 20여 명이 코로나 19 예방을 위해 버...        화순군   \n",
       "\n",
       "         object                      label  \\\n",
       "0        조지 해리슨                no_relation   \n",
       "1          대안신당                no_relation   \n",
       "2      한국프로축구연맹              org:member_of   \n",
       "3           박정부  org:top_members/employees   \n",
       "4          1967                no_relation   \n",
       "...         ...                        ...   \n",
       "32465  부산 서구·동구            per:employee_of   \n",
       "32466       손병희             per:colleagues   \n",
       "32467       신우철  org:top_members/employees   \n",
       "32468     중앙홀딩스                no_relation   \n",
       "32469       구충곤  org:top_members/employees   \n",
       "\n",
       "                                           entity_tokens  \\\n",
       "0                    [2, 29830, 3, 8373, 14113, 2234, 3]   \n",
       "1      [2, 3772, 2139, 2267, 2481, 3, 5605, 2250, 248...   \n",
       "2             [2, 4104, 10904, 3, 3629, 17287, 20212, 3]   \n",
       "3              [2, 27930, 24393, 2024, 3, 6580, 2144, 3]   \n",
       "4                         [2, 20289, 20562, 3, 14925, 3]   \n",
       "...                                                  ...   \n",
       "32465       [2, 5967, 2456, 3, 3902, 5905, 100, 7522, 3]   \n",
       "32466           [2, 28246, 2444, 3, 1284, 2394, 2364, 3]   \n",
       "32467                [2, 18272, 2242, 3, 31102, 2313, 3]   \n",
       "32468           [2, 15710, 3, 4097, 2827, 2500, 2255, 3]   \n",
       "32469            [2, 15437, 2242, 3, 615, 2419, 2344, 3]   \n",
       "\n",
       "                                             sent_tokens  \n",
       "0      [2, 168, 30985, 14451, 7088, 4586, 169, 793, 8...  \n",
       "1      [2, 6409, 2052, 4568, 2179, 6417, 2044, 2315, ...  \n",
       "2      [2, 47, 17665, 2302, 27135, 4610, 21, 2090, 21...  \n",
       "3      [2, 23306, 2116, 3799, 18319, 2532, 12, 1564, ...  \n",
       "4      [2, 14925, 2440, 3701, 4878, 19038, 21, 22247,...  \n",
       "...                                                  ...  \n",
       "32465  [2, 3629, 2481, 2073, 27, 2210, 4400, 29, 2067...  \n",
       "32466  [2, 1144, 2208, 2259, 3690, 28246, 2444, 16, 2...  \n",
       "32467  [2, 18272, 2242, 12, 6942, 31102, 2313, 13, 15...  \n",
       "32468  [2, 15724, 16, 15710, 3873, 2069, 8490, 3719, ...  \n",
       "32469  [2, 15437, 2242, 12, 6942, 615, 2419, 2344, 13...  \n",
       "\n",
       "[32470 rows x 7 columns]"
      ]
     },
     "execution_count": 54,
     "metadata": {},
     "output_type": "execute_result"
    }
   ],
   "source": [
    "train_data"
   ]
  },
  {
   "cell_type": "code",
   "execution_count": 53,
   "id": "1ba482d7-b0f5-4f90-9b23-02d5bc5cb892",
   "metadata": {},
   "outputs": [
    {
     "data": {
      "text/html": [
       "<div>\n",
       "<style scoped>\n",
       "    .dataframe tbody tr th:only-of-type {\n",
       "        vertical-align: middle;\n",
       "    }\n",
       "\n",
       "    .dataframe tbody tr th {\n",
       "        vertical-align: top;\n",
       "    }\n",
       "\n",
       "    .dataframe thead th {\n",
       "        text-align: right;\n",
       "    }\n",
       "</style>\n",
       "<table border=\"1\" class=\"dataframe\">\n",
       "  <thead>\n",
       "    <tr style=\"text-align: right;\">\n",
       "      <th></th>\n",
       "      <th>id</th>\n",
       "      <th>sentence</th>\n",
       "      <th>subject</th>\n",
       "      <th>object</th>\n",
       "      <th>label</th>\n",
       "      <th>sent_tokens</th>\n",
       "      <th>entity_tokens</th>\n",
       "    </tr>\n",
       "  </thead>\n",
       "  <tbody>\n",
       "    <tr>\n",
       "      <th>0</th>\n",
       "      <td>0</td>\n",
       "      <td>지난 15일 MBC '탐사기획 스트레이트'가 이 사실을 보도했다.</td>\n",
       "      <td>MBC</td>\n",
       "      <td>탐사기획 스트레이트</td>\n",
       "      <td>100</td>\n",
       "      <td>[2, 3625, 3749, 2210, 5633, 11, 11428, 26648, ...</td>\n",
       "      <td>[2, 5633, 3, 11428, 26648, 27967, 3]</td>\n",
       "    </tr>\n",
       "    <tr>\n",
       "      <th>1</th>\n",
       "      <td>1</td>\n",
       "      <td>사랑스러운 ‘프린세스 프링’의 이름은 봄의 공주님: Princess(s)Pring이...</td>\n",
       "      <td>프린세스 프링</td>\n",
       "      <td>공주</td>\n",
       "      <td>100</td>\n",
       "      <td>[2, 3784, 21154, 114, 8354, 24141, 1878, 2557,...</td>\n",
       "      <td>[2, 8354, 24141, 1878, 2557, 3, 6717, 3]</td>\n",
       "    </tr>\n",
       "    <tr>\n",
       "      <th>2</th>\n",
       "      <td>2</td>\n",
       "      <td>한편, 본인(이근안)을 모델로 한 MBC 특집드라마 가 1995년 6.25 특집극으...</td>\n",
       "      <td>경찰</td>\n",
       "      <td>1995년</td>\n",
       "      <td>100</td>\n",
       "      <td>[2, 3995, 16, 5006, 12, 16576, 2283, 13, 1498,...</td>\n",
       "      <td>[2, 3858, 3, 7394, 2440, 3]</td>\n",
       "    </tr>\n",
       "    <tr>\n",
       "      <th>3</th>\n",
       "      <td>3</td>\n",
       "      <td>정창손은 김질과 같이 대궐로 달려가 고변하며 '신은 실로 모르고 김질만 혼자 참여하...</td>\n",
       "      <td>세조</td>\n",
       "      <td>정창손</td>\n",
       "      <td>100</td>\n",
       "      <td>[2, 1543, 2335, 2390, 2073, 648, 2431, 2145, 3...</td>\n",
       "      <td>[2, 21396, 3, 1543, 2335, 2390, 3]</td>\n",
       "    </tr>\n",
       "    <tr>\n",
       "      <th>4</th>\n",
       "      <td>4</td>\n",
       "      <td>당시 민주당 이진련 시의원은 권영진 시장에게 \"긴급 생계자금을 왜 현금으로 지원하지...</td>\n",
       "      <td>민주당</td>\n",
       "      <td>권영진</td>\n",
       "      <td>100</td>\n",
       "      <td>[2, 3817, 4186, 11474, 2580, 25312, 2252, 2073...</td>\n",
       "      <td>[2, 4186, 3, 28845, 3]</td>\n",
       "    </tr>\n",
       "    <tr>\n",
       "      <th>...</th>\n",
       "      <td>...</td>\n",
       "      <td>...</td>\n",
       "      <td>...</td>\n",
       "      <td>...</td>\n",
       "      <td>...</td>\n",
       "      <td>...</td>\n",
       "      <td>...</td>\n",
       "    </tr>\n",
       "    <tr>\n",
       "      <th>7760</th>\n",
       "      <td>7760</td>\n",
       "      <td>코로나19 방역 조치의 일환으로 국민의 움직임을 통제하려는 정부의 시도를 이탈리아 ...</td>\n",
       "      <td>정부</td>\n",
       "      <td>이탈리아</td>\n",
       "      <td>100</td>\n",
       "      <td>[2, 1726, 11235, 22328, 12133, 4524, 2079, 859...</td>\n",
       "      <td>[2, 3659, 3, 6079, 3]</td>\n",
       "    </tr>\n",
       "    <tr>\n",
       "      <th>7761</th>\n",
       "      <td>7761</td>\n",
       "      <td>선 연구원은 “위식도역류질환치료제인 케이캡이 92억원 판매되면서 2019년 연간 3...</td>\n",
       "      <td>종근당</td>\n",
       "      <td>전년</td>\n",
       "      <td>100</td>\n",
       "      <td>[2, 1261, 4736, 2073, 116, 1485, 2096, 2119, 2...</td>\n",
       "      <td>[2, 1558, 2169, 2481, 3, 5301, 3]</td>\n",
       "    </tr>\n",
       "    <tr>\n",
       "      <th>7762</th>\n",
       "      <td>7762</td>\n",
       "      <td>한국전기안전공사(사장 조성완)는 8월 1일부로, 3급 간부직원에 대한 승진·이동 인...</td>\n",
       "      <td>한국전기안전공사</td>\n",
       "      <td>조성완</td>\n",
       "      <td>100</td>\n",
       "      <td>[2, 3629, 16074, 14736, 5634, 12, 4184, 4196, ...</td>\n",
       "      <td>[2, 3629, 16074, 14736, 5634, 3, 4196, 2365, 3]</td>\n",
       "    </tr>\n",
       "    <tr>\n",
       "      <th>7763</th>\n",
       "      <td>7763</td>\n",
       "      <td>1987년 B. 슈나이더(B. Schneider)에 의해 만들어졌다.</td>\n",
       "      <td>B. 슈나이더</td>\n",
       "      <td>1987년</td>\n",
       "      <td>100</td>\n",
       "      <td>[2, 9175, 2440, 38, 18, 1312, 7461, 2320, 12, ...</td>\n",
       "      <td>[2, 38, 18, 1312, 7461, 2320, 3, 9175, 2440, 3]</td>\n",
       "    </tr>\n",
       "    <tr>\n",
       "      <th>7764</th>\n",
       "      <td>7764</td>\n",
       "      <td>이승옥 강진군수는 2일 NH농협은행 강진군지부(지부장 강대형)를 방문해 부품·소재·...</td>\n",
       "      <td>이승옥</td>\n",
       "      <td>2일</td>\n",
       "      <td>100</td>\n",
       "      <td>[2, 5955, 2349, 11982, 2242, 2113, 2259, 22, 2...</td>\n",
       "      <td>[2, 5955, 2349, 3, 22, 2210, 3]</td>\n",
       "    </tr>\n",
       "  </tbody>\n",
       "</table>\n",
       "<p>7765 rows × 7 columns</p>\n",
       "</div>"
      ],
      "text/plain": [
       "        id                                           sentence   subject  \\\n",
       "0        0               지난 15일 MBC '탐사기획 스트레이트'가 이 사실을 보도했다.       MBC   \n",
       "1        1  사랑스러운 ‘프린세스 프링’의 이름은 봄의 공주님: Princess(s)Pring이...   프린세스 프링   \n",
       "2        2  한편, 본인(이근안)을 모델로 한 MBC 특집드라마 가 1995년 6.25 특집극으...        경찰   \n",
       "3        3  정창손은 김질과 같이 대궐로 달려가 고변하며 '신은 실로 모르고 김질만 혼자 참여하...        세조   \n",
       "4        4  당시 민주당 이진련 시의원은 권영진 시장에게 \"긴급 생계자금을 왜 현금으로 지원하지...       민주당   \n",
       "...    ...                                                ...       ...   \n",
       "7760  7760  코로나19 방역 조치의 일환으로 국민의 움직임을 통제하려는 정부의 시도를 이탈리아 ...        정부   \n",
       "7761  7761  선 연구원은 “위식도역류질환치료제인 케이캡이 92억원 판매되면서 2019년 연간 3...       종근당   \n",
       "7762  7762  한국전기안전공사(사장 조성완)는 8월 1일부로, 3급 간부직원에 대한 승진·이동 인...  한국전기안전공사   \n",
       "7763  7763             1987년 B. 슈나이더(B. Schneider)에 의해 만들어졌다.   B. 슈나이더   \n",
       "7764  7764  이승옥 강진군수는 2일 NH농협은행 강진군지부(지부장 강대형)를 방문해 부품·소재·...       이승옥   \n",
       "\n",
       "          object  label                                        sent_tokens  \\\n",
       "0     탐사기획 스트레이트    100  [2, 3625, 3749, 2210, 5633, 11, 11428, 26648, ...   \n",
       "1             공주    100  [2, 3784, 21154, 114, 8354, 24141, 1878, 2557,...   \n",
       "2          1995년    100  [2, 3995, 16, 5006, 12, 16576, 2283, 13, 1498,...   \n",
       "3            정창손    100  [2, 1543, 2335, 2390, 2073, 648, 2431, 2145, 3...   \n",
       "4            권영진    100  [2, 3817, 4186, 11474, 2580, 25312, 2252, 2073...   \n",
       "...          ...    ...                                                ...   \n",
       "7760        이탈리아    100  [2, 1726, 11235, 22328, 12133, 4524, 2079, 859...   \n",
       "7761          전년    100  [2, 1261, 4736, 2073, 116, 1485, 2096, 2119, 2...   \n",
       "7762         조성완    100  [2, 3629, 16074, 14736, 5634, 12, 4184, 4196, ...   \n",
       "7763       1987년    100  [2, 9175, 2440, 38, 18, 1312, 7461, 2320, 12, ...   \n",
       "7764          2일    100  [2, 5955, 2349, 11982, 2242, 2113, 2259, 22, 2...   \n",
       "\n",
       "                                        entity_tokens  \n",
       "0                [2, 5633, 3, 11428, 26648, 27967, 3]  \n",
       "1            [2, 8354, 24141, 1878, 2557, 3, 6717, 3]  \n",
       "2                         [2, 3858, 3, 7394, 2440, 3]  \n",
       "3                  [2, 21396, 3, 1543, 2335, 2390, 3]  \n",
       "4                              [2, 4186, 3, 28845, 3]  \n",
       "...                                               ...  \n",
       "7760                            [2, 3659, 3, 6079, 3]  \n",
       "7761                [2, 1558, 2169, 2481, 3, 5301, 3]  \n",
       "7762  [2, 3629, 16074, 14736, 5634, 3, 4196, 2365, 3]  \n",
       "7763  [2, 38, 18, 1312, 7461, 2320, 3, 9175, 2440, 3]  \n",
       "7764                  [2, 5955, 2349, 3, 22, 2210, 3]  \n",
       "\n",
       "[7765 rows x 7 columns]"
      ]
     },
     "execution_count": 53,
     "metadata": {},
     "output_type": "execute_result"
    }
   ],
   "source": [
    "test_data"
   ]
  },
  {
   "cell_type": "code",
   "execution_count": 58,
   "id": "56b980ba-c3a3-4117-bced-743c051ad08c",
   "metadata": {},
   "outputs": [
    {
     "name": "stderr",
     "output_type": "stream",
     "text": [
      "<ipython-input-58-a1d3099e4257>:1: SettingWithCopyWarning: \n",
      "A value is trying to be set on a copy of a slice from a DataFrame.\n",
      "Try using .loc[row_indexer,col_indexer] = value instead\n",
      "\n",
      "See the caveats in the documentation: https://pandas.pydata.org/pandas-docs/stable/user_guide/indexing.html#returning-a-view-versus-a-copy\n",
      "  train_data['sent_token_length'] = list(map(len, train_data['sent_tokens']))\n",
      "<ipython-input-58-a1d3099e4257>:2: SettingWithCopyWarning: \n",
      "A value is trying to be set on a copy of a slice from a DataFrame.\n",
      "Try using .loc[row_indexer,col_indexer] = value instead\n",
      "\n",
      "See the caveats in the documentation: https://pandas.pydata.org/pandas-docs/stable/user_guide/indexing.html#returning-a-view-versus-a-copy\n",
      "  test_data['sent_token_length'] = list(map(len, test_data['sent_tokens']))\n"
     ]
    }
   ],
   "source": [
    "train_data['sent_token_length'] = list(map(len, train_data['sent_tokens']))\n",
    "test_data['sent_token_length'] = list(map(len, test_data['sent_tokens']))\n",
    "\n",
    "train_data['ent_token_length'] = list(map(len, train_data['entity_tokens']))\n",
    "test_data['ent_token_length'] = list(map(len, test_data['entity_tokens']))"
   ]
  },
  {
   "cell_type": "code",
   "execution_count": 62,
   "id": "c5075250-ee5d-4330-a4e5-e2aa025e9e81",
   "metadata": {},
   "outputs": [
    {
     "name": "stdout",
     "output_type": "stream",
     "text": [
      "24480\n"
     ]
    }
   ],
   "source": [
    "total_tokens = []\n",
    "for li in list(train_data['sent_tokens']):\n",
    "    total_tokens.extend(li)\n",
    "print(len(set(total_tokens)))"
   ]
  },
  {
   "cell_type": "code",
   "execution_count": 65,
   "id": "41f3b81d-3bc9-4408-90df-85a19055066c",
   "metadata": {},
   "outputs": [
    {
     "name": "stdout",
     "output_type": "stream",
     "text": [
      "train 문장 token 개수 평균:  52.95860794579612\n",
      "train 문장 token 개수 중앙값:  48.0\n",
      "train 문장 token 개수 최소:  9\n",
      "train 문장 token 개수 최대:  231\n",
      "train entity token 개수 평균:  8.59621188789652\n",
      "train entity token 개수 중앙값:  8.0\n",
      "\n",
      "test 문장 token 개수 평균:  51.2\n",
      "test 문장 token 개수 중앙값:  47.0\n",
      "test 문장 token 개수 최소:  12\n",
      "test 문장 token 개수 최대:  223\n",
      "test entity token 개수 평균:  7.27533805537669\n",
      "test entity token 개수 중앙값:  7.0\n"
     ]
    }
   ],
   "source": [
    "print('train 문장 token 개수 평균: ', np.mean(np.array(list(train_data['sent_token_length']))))\n",
    "print('train 문장 token 개수 중앙값: ', np.median(np.array(list(train_data['sent_token_length']))))\n",
    "print('train 문장 token 개수 최소: ', np.min(np.array(list(train_data['sent_token_length']))))\n",
    "print('train 문장 token 개수 최대: ', np.max(np.array(list(train_data['sent_token_length']))))\n",
    "print('train entity token 개수 평균: ', np.mean(np.array(list(train_data['ent_token_length']))))\n",
    "print('train entity token 개수 중앙값: ', np.median(np.array(list(train_data['ent_token_length']))))\n",
    "\n",
    "print('\\ntest 문장 token 개수 평균: ', np.mean(np.array(list(test_data['sent_token_length']))))\n",
    "print('test 문장 token 개수 중앙값: ', np.median(np.array(list(test_data['sent_token_length']))))\n",
    "print('test 문장 token 개수 최소: ', np.min(np.array(list(test_data['sent_token_length']))))\n",
    "print('test 문장 token 개수 최대: ', np.max(np.array(list(test_data['sent_token_length']))))\n",
    "print('test entity token 개수 평균: ', np.mean(np.array(list(test_data['ent_token_length']))))\n",
    "print('test entity token 개수 중앙값: ', np.median(np.array(list(test_data['ent_token_length']))))"
   ]
  },
  {
   "cell_type": "code",
   "execution_count": 70,
   "id": "36703e80-7a7c-4c8d-96db-e4bdd57eff8f",
   "metadata": {},
   "outputs": [],
   "source": [
    "from collections import Counter\n",
    "counter = Counter(total_tokens)\n",
    "top10 = counter.most_common(n=10)\n",
    "top10_indices = [x[0] for x in top10]"
   ]
  },
  {
   "cell_type": "code",
   "execution_count": 71,
   "id": "2fef1090-0dd1-4c99-8500-f97c704405bb",
   "metadata": {},
   "outputs": [
    {
     "data": {
      "text/plain": [
       "[',', '.', '##의', '[CLS]', '[SEP]', '##다', '##을', '##에', '##는', '##년']"
      ]
     },
     "execution_count": 71,
     "metadata": {},
     "output_type": "execute_result"
    }
   ],
   "source": [
    "tokenizer.convert_ids_to_tokens(top10_indices)"
   ]
  },
  {
   "cell_type": "code",
   "execution_count": 74,
   "id": "2ab07811-8ed6-4442-98ce-e65b6c4a9989",
   "metadata": {},
   "outputs": [
    {
     "data": {
      "text/plain": [
       "{'input_ids': [2, 10661, 3], 'token_type_ids': [0, 0, 0], 'attention_mask': [1, 1, 1]}"
      ]
     },
     "execution_count": 74,
     "metadata": {},
     "output_type": "execute_result"
    }
   ],
   "source": [
    "tokenizer('이순신은 조선 중기의 무신이다.', padding=True, truncation=True, max_length = 3)"
   ]
  },
  {
   "cell_type": "code",
   "execution_count": null,
   "id": "7a760e84-ed32-4536-bf71-41ef31f4c2df",
   "metadata": {},
   "outputs": [],
   "source": []
  }
 ],
 "metadata": {
  "kernelspec": {
   "display_name": "Python 3 (ipykernel)",
   "language": "python",
   "name": "python3"
  },
  "language_info": {
   "codemirror_mode": {
    "name": "ipython",
    "version": 3
   },
   "file_extension": ".py",
   "mimetype": "text/x-python",
   "name": "python",
   "nbconvert_exporter": "python",
   "pygments_lexer": "ipython3",
   "version": "3.8.5"
  }
 },
 "nbformat": 4,
 "nbformat_minor": 5
}
